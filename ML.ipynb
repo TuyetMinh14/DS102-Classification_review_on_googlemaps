{
 "cells": [
  {
   "cell_type": "code",
   "execution_count": null,
   "metadata": {},
   "outputs": [],
   "source": [
    "from sklearn.svm import SVC\n",
    "from sklearn.linear_model import LogisticRegression\n",
    "from sklearn.preprocessing import LabelEncoder\n",
    "from sklearn.feature_extraction.text import TfidfVectorizer\n",
    "from sklearn.model_selection import train_test_split\n",
    "\n",
    "import json"
   ]
  },
  {
   "cell_type": "code",
   "execution_count": null,
   "metadata": {},
   "outputs": [],
   "source": [
    "train_dataset = json.load(open(\"train.json\",\"r\"))\n",
    "test_dataset = json.load(open(\"test.json\",\"r\"))"
   ]
  },
  {
   "cell_type": "code",
   "execution_count": null,
   "metadata": {},
   "outputs": [],
   "source": [
    "# X_train = [train[\"text\"] for train in train_dataset if isinstance(train[\"text\"], str)]\n",
    "# y_train = [train[\"label\"] for train in train_dataset]\n",
    "\n",
    "# X_test = [test[\"text\"] for test in test_dataset if isinstance(test[\"text\"], str)]\n",
    "# y_test = [test[\"label\"] for test in test_dataset]"
   ]
  },
  {
   "cell_type": "code",
   "execution_count": null,
   "metadata": {},
   "outputs": [],
   "source": [
    "def get_data(dataset):\n",
    "    X, y = [], []\n",
    "    for data in dataset:\n",
    "        if isinstance(data[\"text\"], str):\n",
    "            X.append(data[\"text\"])\n",
    "            y.append(data[\"label\"])\n",
    "    return X, y\n",
    "\n",
    "X_train, y_train = get_data(train_dataset)\n",
    "X_test, y_test = get_data(test_dataset)"
   ]
  },
  {
   "cell_type": "code",
   "execution_count": null,
   "metadata": {},
   "outputs": [],
   "source": [
    "tf_idf = TfidfVectorizer()\n",
    "X_train_tf = tf_idf.fit_transform(X_train)\n",
    "X_test_tf = tf_idf.transform(X_test)"
   ]
  },
  {
   "cell_type": "code",
   "execution_count": null,
   "metadata": {},
   "outputs": [],
   "source": [
    "le = LabelEncoder()\n",
    "y_train = le.fit_transform(y_train)\n",
    "y_test = le.transform(y_test)"
   ]
  },
  {
   "cell_type": "code",
   "execution_count": null,
   "metadata": {},
   "outputs": [],
   "source": [
    "# cls = SVC().fit(X_train_tf, y_train)\n",
    "cls = LogisticRegression(multi_class=\"multinomial\").fit(X_train_tf, y_train)"
   ]
  },
  {
   "cell_type": "code",
   "execution_count": null,
   "metadata": {},
   "outputs": [],
   "source": [
    "y_pred = cls.predict(X_test_tf)"
   ]
  },
  {
   "cell_type": "code",
   "execution_count": null,
   "metadata": {},
   "outputs": [],
   "source": [
    "from sklearn.metrics import classification_report\n",
    "# Logistic regression\n",
    "print(classification_report(y_test, y_pred, target_names=['negative', 'neutral', 'other', 'positive']))"
   ]
  },
  {
   "cell_type": "code",
   "execution_count": null,
   "metadata": {},
   "outputs": [],
   "source": [
    "map = {# huggingface -> labelencode\n",
    "    2: 1, # neutral\n",
    "    0: 3, # positive\n",
    "    1: 0,\n",
    "    3: 2, # other\n",
    "    } "
   ]
  },
  {
   "cell_type": "code",
   "execution_count": null,
   "metadata": {},
   "outputs": [],
   "source": [
    "from sklearn.metrics import classification_report\n",
    "#SVC\n",
    "print(classification_report(y_test, y_pred, target_names=['negative', 'neutral', 'other', 'positive']))"
   ]
  },
  {
   "cell_type": "code",
   "execution_count": null,
   "metadata": {},
   "outputs": [],
   "source": [
    "from sklearn.metrics import classification_report\n",
    "# Logistic regression\n",
    "print(classification_report(y_test, y_pred, target_names=['negative', 'neutral', 'other', 'positive']))"
   ]
  }
 ],
 "metadata": {
  "kernelspec": {
   "display_name": "Python 3",
   "language": "python",
   "name": "python3"
  },
  "language_info": {
   "codemirror_mode": {
    "name": "ipython",
    "version": 3
   },
   "file_extension": ".py",
   "mimetype": "text/x-python",
   "name": "python",
   "nbconvert_exporter": "python",
   "pygments_lexer": "ipython3",
   "version": "3.9.10"
  }
 },
 "nbformat": 4,
 "nbformat_minor": 2
}
