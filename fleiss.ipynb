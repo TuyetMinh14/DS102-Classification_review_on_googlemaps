{
 "cells": [
  {
   "cell_type": "code",
   "execution_count": 8,
   "metadata": {},
   "outputs": [],
   "source": [
    "import json\n",
    "import glob\n",
    "import os\n",
    "import numpy as np"
   ]
  },
  {
   "cell_type": "code",
   "execution_count": 9,
   "metadata": {},
   "outputs": [],
   "source": [
    "from statsmodels.stats.inter_rater import aggregate_raters, fleiss_kappa"
   ]
  },
  {
   "cell_type": "code",
   "execution_count": 10,
   "metadata": {},
   "outputs": [],
   "source": [
    "labelencode = {\"positive\":2,\n",
    "               \"negative\":0,\n",
    "               \"neutral\":1,\n",
    "               \"other\":3}\n",
    "def fleiss(folder):\n",
    "    # os.chdir(folder)\n",
    "    file = glob.glob(f\"{folder}/*.json\")\n",
    "    print(file)\n",
    "    annotators = []\n",
    "    for f in file:\n",
    "        print(f)\n",
    "        anno = json.load(open(f,\"r\",encoding=\"utf-8\"))\n",
    "        annotators.append([labelencode[data[\"label\"][0]] for data in anno])\n",
    "    \n",
    "    annotators = np.array(annotators)\n",
    "    print(annotators.shape)\n",
    "    annotators = annotators.transpose().astype(int).tolist()\n",
    "    \n",
    "    print(\"Do dong thuan\", fleiss_kappa(aggregate_raters(annotators)[0]))"
   ]
  },
  {
   "cell_type": "code",
   "execution_count": null,
   "metadata": {},
   "outputs": [],
   "source": [
    "fleiss(\"./result/set3\")"
   ]
  }
 ],
 "metadata": {
  "kernelspec": {
   "display_name": "Python 3",
   "language": "python",
   "name": "python3"
  },
  "language_info": {
   "codemirror_mode": {
    "name": "ipython",
    "version": 3
   },
   "file_extension": ".py",
   "mimetype": "text/x-python",
   "name": "python",
   "nbconvert_exporter": "python",
   "pygments_lexer": "ipython3",
   "version": "3.9.10"
  }
 },
 "nbformat": 4,
 "nbformat_minor": 2
}
